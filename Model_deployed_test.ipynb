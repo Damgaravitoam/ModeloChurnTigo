{
 "cells": [
  {
   "cell_type": "code",
   "execution_count": 1,
   "id": "a23ac657-0ea8-4cb6-9443-2e44cad6ffa5",
   "metadata": {},
   "outputs": [
    {
     "name": "stdout",
     "output_type": "stream",
     "text": [
      "Requirement already satisfied: requests in /Library/Frameworks/Python.framework/Versions/3.12/lib/python3.12/site-packages (2.32.3)\n",
      "Requirement already satisfied: charset-normalizer<4,>=2 in /Library/Frameworks/Python.framework/Versions/3.12/lib/python3.12/site-packages (from requests) (3.3.2)\n",
      "Requirement already satisfied: idna<4,>=2.5 in /Library/Frameworks/Python.framework/Versions/3.12/lib/python3.12/site-packages (from requests) (3.8)\n",
      "Requirement already satisfied: urllib3<3,>=1.21.1 in /Library/Frameworks/Python.framework/Versions/3.12/lib/python3.12/site-packages (from requests) (2.2.2)\n",
      "Requirement already satisfied: certifi>=2017.4.17 in /Library/Frameworks/Python.framework/Versions/3.12/lib/python3.12/site-packages (from requests) (2024.8.30)\n",
      "\n",
      "\u001b[1m[\u001b[0m\u001b[34;49mnotice\u001b[0m\u001b[1;39;49m]\u001b[0m\u001b[39;49m A new release of pip is available: \u001b[0m\u001b[31;49m25.1\u001b[0m\u001b[39;49m -> \u001b[0m\u001b[32;49m25.1.1\u001b[0m\n",
      "\u001b[1m[\u001b[0m\u001b[34;49mnotice\u001b[0m\u001b[1;39;49m]\u001b[0m\u001b[39;49m To update, run: \u001b[0m\u001b[32;49mpip install --upgrade pip\u001b[0m\n"
     ]
    }
   ],
   "source": [
    "#!pip install requests"
   ]
  },
  {
   "cell_type": "code",
   "execution_count": 2,
   "id": "8d06c7e9-e1a0-4f05-b195-aae5d8a782a6",
   "metadata": {},
   "outputs": [
    {
     "name": "stdout",
     "output_type": "stream",
     "text": [
      "       ID  prediction\n",
      "0   90659           1\n",
      "1  473019           1\n",
      "2  421306           1\n",
      "3  291700           1\n",
      "4  447516           1\n"
     ]
    }
   ],
   "source": [
    "import requests\n",
    "import pandas as pd\n",
    "import json\n",
    "\n",
    "url = \"https://dtpnqzhts3.execute-api.us-east-2.amazonaws.com/Prueba\"\n",
    "\n",
    "# 📂 Leer el CSV y convertirlo en JSON\n",
    "df = pd.read_csv(\"df_muestra.csv\")\n",
    "\n",
    "# 🚨 Manejo de NaN: Reemplazar valores `NaN` con `None` para JSON válido\n",
    "df = df.where(pd.notna(df), None)\n",
    "\n",
    "# ✅ Lista para almacenar los resultados\n",
    "results = []\n",
    "\n",
    "# 🔄 Iterar sobre cada fila del DataFrame\n",
    "for i in range(df.shape[0]):  \n",
    "    # 📌 Obtener ID de la fila actual\n",
    "    ID = df.iloc[i][\"ID\"]\n",
    "\n",
    "    # ✅ Seleccionar la fila `i` y convertirla a JSON\n",
    "    sample_payload = {\"inputs\": [df.iloc[i].to_dict()]}  \n",
    "    \n",
    "    # ✅ Envolver en formato esperado por Lambda\n",
    "    lambda_event = {\"body\": json.dumps(sample_payload)}  \n",
    "    \n",
    "    # 🚀 Enviar la solicitud\n",
    "    response = requests.post(url, json=lambda_event)\n",
    "    \n",
    "    # 📌 Extraer `prediction` desde la respuesta\n",
    "    prediction = json.loads(response.json()[\"body\"])[\"predictions\"][0]  \n",
    "    \n",
    "    # 📌 Almacenar en la lista\n",
    "    results.append({\"ID\": ID, \"prediction\": prediction})  \n",
    "\n",
    "# ✅ Crear DataFrame con los resultados\n",
    "df_results = pd.DataFrame(results)\n",
    "\n",
    "# 🔍 Verificación\n",
    "print(df_results.head())  # 🔥 Revisa la estructura del DataFrame"
   ]
  }
 ],
 "metadata": {
  "kernelspec": {
   "display_name": "Python 3 (ipykernel)",
   "language": "python",
   "name": "python3"
  },
  "language_info": {
   "codemirror_mode": {
    "name": "ipython",
    "version": 3
   },
   "file_extension": ".py",
   "mimetype": "text/x-python",
   "name": "python",
   "nbconvert_exporter": "python",
   "pygments_lexer": "ipython3",
   "version": "3.12.5"
  }
 },
 "nbformat": 4,
 "nbformat_minor": 5
}
