{
 "cells": [
  {
   "cell_type": "code",
   "execution_count": 16,
   "id": "91782f5f-9c07-4b04-9fac-2f2d5b7d5fcd",
   "metadata": {},
   "outputs": [
    {
     "name": "stdout",
     "output_type": "stream",
     "text": [
      "📌 Lista de endpoints disponibles: ['sagemaker-scikit-learn-2025-05-07-06-04-40-195', 'sagemaker-scikit-learn-2025-05-07-04-45-43-055']\n"
     ]
    }
   ],
   "source": [
    "import boto3\n",
    "\n",
    "# ✅ Crear el cliente de SageMaker\n",
    "sagemaker_client = boto3.client(\"sagemaker\")\n",
    "\n",
    "# 🔄 Ahora puedes listar los endpoints\n",
    "endpoints_list = sagemaker_client.list_endpoints()\n",
    "print(\"📌 Lista de endpoints disponibles:\", [ep[\"EndpointName\"] for ep in endpoints_list[\"Endpoints\"]])"
   ]
  },
  {
   "cell_type": "code",
   "execution_count": 17,
   "id": "e40b5ef0-5aaa-468d-8743-6c2933be1459",
   "metadata": {},
   "outputs": [
    {
     "name": "stdout",
     "output_type": "stream",
     "text": [
      "🟢 Estado del endpoint: InService\n"
     ]
    }
   ],
   "source": [
    "endpoint_name = \"nombre_real_de_tu_endpoint\"  # 🔥 Ajusta con el nombre correcto\n",
    "\n",
    "import boto3\n",
    "sagemaker_client = boto3.client(\"sagemaker\")\n",
    "response = sagemaker_client.describe_endpoint(EndpointName='sagemaker-scikit-learn-2025-05-07-06-04-40-195')\n",
    "\n",
    "print(\"🟢 Estado del endpoint:\", response[\"EndpointStatus\"])"
   ]
  },
  {
   "cell_type": "code",
   "execution_count": 33,
   "id": "3bb44a1a-15cb-4bba-8625-43ab028794e9",
   "metadata": {},
   "outputs": [
    {
     "name": "stdout",
     "output_type": "stream",
     "text": [
      "🔮 Predicciones: [1, 1, 1, 1, 1, 1, 1, 1, 1, 0, 0, 0, 0, 0, 0, 0, 0, 0, 0, 0, 0, 0, 0, 0, 0, 0, 0, 0, 0, 0, 0, 0, 0, 0, 0, 0, 0, 0, 0, 0, 0, 0, 0, 0, 0, 0, 0, 0, 0, 0, 0, 0, 0, 0, 0, 0, 0, 0, 0, 0, 0, 0, 0, 0, 0, 0, 0, 0, 0, 0, 0, 0, 0, 0, 0, 0, 0, 0, 0, 0, 0, 0, 0, 0, 0, 0, 0, 0, 0, 0, 0, 0, 0, 0, 0, 0, 0, 0, 0, 0]\n"
     ]
    }
   ],
   "source": [
    "import boto3\n",
    "import json\n",
    "import pandas as pd\n",
    "import os\n",
    "\n",
    "from transform_functions import fun_final_base, NonNullValues, new_vars_trend, new_vars_trend, encoder_scaler_loading, const_vars_serv, transf_PCA_POL\n",
    "\n",
    "# Cliente de SageMaker Runtime\n",
    "sagemaker_runtime = boto3.client(\"sagemaker-runtime\")\n",
    "\n",
    "# Nombre del endpoint\n",
    "endpoint_name = 'sagemaker-scikit-learn-2025-05-07-06-04-40-195'  # Ajusta según tu configuración\n",
    "\n",
    "# Leer el CSV y convertirlo en JSON\n",
    "df = pd.read_csv(\"df_muestra.csv\")  # Reemplaza con la ruta correcta\n",
    "payload = df.to_json(orient=\"records\")  # Convierte los datos en formato JSON\n",
    "\n",
    "# Enviar la solicitud al modelo\n",
    "response = sagemaker_runtime.invoke_endpoint(\n",
    "    EndpointName=endpoint_name,\n",
    "    ContentType=\"application/json\",\n",
    "    Body=payload\n",
    ")\n",
    "\n",
    "# Mostrar resultado\n",
    "result = json.loads(response[\"Body\"].read().decode(\"utf-8\"))\n",
    "print(\"🔮 Predicciones:\", result)"
   ]
  },
  {
   "cell_type": "code",
   "execution_count": 38,
   "id": "843ec262-be2f-4fd6-ab54-aa014674b62e",
   "metadata": {},
   "outputs": [
    {
     "name": "stdout",
     "output_type": "stream",
     "text": [
      "🔮 Predicciones: [1]\n"
     ]
    }
   ],
   "source": [
    "import boto3\n",
    "import json\n",
    "import pandas as pd\n",
    "import os\n",
    "\n",
    "from transform_functions import fun_final_base, NonNullValues, new_vars_trend, new_vars_trend, encoder_scaler_loading, const_vars_serv, transf_PCA_POL\n",
    "\n",
    "# Cliente de SageMaker Runtime\n",
    "sagemaker_runtime = boto3.client(\"sagemaker-runtime\")\n",
    "\n",
    "# Nombre del endpoint\n",
    "endpoint_name = 'sagemaker-scikit-learn-2025-05-07-06-04-40-195'  # Ajusta según tu configuración\n",
    "\n",
    "# Leer el CSV y convertirlo en JSON\n",
    "df = pd.read_csv(\"df_muestra.csv\")\n",
    "\n",
    "# ✅ Seleccionar solo la primera fila\n",
    "sample_payload = json.dumps([df.to_dict(orient=\"records\")[0]])  # 🔥 Primera fila\n",
    "\n",
    "# Enviar la solicitud al modelo\n",
    "response = sagemaker_runtime.invoke_endpoint(\n",
    "    EndpointName=endpoint_name,\n",
    "    ContentType=\"application/json\",\n",
    "    Body=sample_payload\n",
    ")\n",
    "\n",
    "# Mostrar resultado\n",
    "result = json.loads(response[\"Body\"].read().decode(\"utf-8\"))\n",
    "print(\"🔮 Predicciones:\", result)"
   ]
  },
  {
   "cell_type": "code",
   "execution_count": 68,
   "id": "0b739bf7-6a5b-4ad5-ae2d-8a4a9ba1585c",
   "metadata": {},
   "outputs": [
    {
     "name": "stdout",
     "output_type": "stream",
     "text": [
      "{'statusCode': 200, 'body': '{\"predictions\": [1]}'}\n"
     ]
    }
   ],
   "source": [
    "import json\n",
    "import pandas as pd\n",
    "\n",
    "url = \"https://dtpnqzhts3.execute-api.us-east-2.amazonaws.com/Prueba\"\n",
    "\n",
    "# 📂 Leer el CSV y convertirlo en JSON\n",
    "df = pd.read_csv(\"df_muestra.csv\")\n",
    "\n",
    "# 🚨 Manejo de NaN: Reemplazar valores `NaN` con `None` para JSON válido\n",
    "df = df.where(pd.notna(df), None)\n",
    "\n",
    "# ✅ Seleccionar solo la primera fila con la clave esperada en Lambda\n",
    "sample_payload = {\"inputs\": [df.to_dict(orient=\"records\")[0]]}  # ✅ Estructura esperada\n",
    "\n",
    "# ✅ Envolver en formato esperado por Lambda\n",
    "lambda_event = {\"body\": json.dumps(sample_payload)}  # 🔥 Convertir `sample_payload` a string JSON dentro de `body`\n",
    "\n",
    "# 🚀 Enviar la solicitud\n",
    "response = requests.post(url, json=lambda_event)\n",
    "print(response.json())  # 🔥 Revisar la respuesta"
   ]
  },
  {
   "cell_type": "code",
   "execution_count": 74,
   "id": "45916c2f-a21c-4f86-a38a-05941e200e9e",
   "metadata": {
    "scrolled": true
   },
   "outputs": [
    {
     "name": "stdout",
     "output_type": "stream",
     "text": [
      "       ID  prediction\n",
      "0   90659           1\n",
      "1  473019           1\n",
      "2  421306           1\n",
      "3  291700           1\n",
      "4  447516           1\n"
     ]
    }
   ],
   "source": [
    "import requests\n",
    "import pandas as pd\n",
    "import json\n",
    "\n",
    "url = \"https://dtpnqzhts3.execute-api.us-east-2.amazonaws.com/Prueba\"\n",
    "\n",
    "# 📂 Leer el CSV y convertirlo en JSON\n",
    "df = pd.read_csv(\"df_muestra.csv\")\n",
    "\n",
    "# 🚨 Manejo de NaN: Reemplazar valores `NaN` con `None` para JSON válido\n",
    "df = df.where(pd.notna(df), None)\n",
    "\n",
    "# ✅ Lista para almacenar los resultados\n",
    "results = []\n",
    "\n",
    "# 🔄 Iterar sobre cada fila del DataFrame\n",
    "for i in range(df.shape[0]):  \n",
    "    # 📌 Obtener ID de la fila actual\n",
    "    ID = df.iloc[i][\"ID\"]\n",
    "\n",
    "    # ✅ Seleccionar la fila `i` y convertirla a JSON\n",
    "    sample_payload = {\"inputs\": [df.iloc[i].to_dict()]}  \n",
    "    \n",
    "    # ✅ Envolver en formato esperado por Lambda\n",
    "    lambda_event = {\"body\": json.dumps(sample_payload)}  \n",
    "    \n",
    "    # 🚀 Enviar la solicitud\n",
    "    response = requests.post(url, json=lambda_event)\n",
    "    \n",
    "    # 📌 Extraer `prediction` desde la respuesta\n",
    "    prediction = json.loads(response.json()[\"body\"])[\"predictions\"][0]  \n",
    "    \n",
    "    # 📌 Almacenar en la lista\n",
    "    results.append({\"ID\": ID, \"prediction\": prediction})  \n",
    "\n",
    "# ✅ Crear DataFrame con los resultados\n",
    "df_results = pd.DataFrame(results)\n",
    "\n",
    "# 🔍 Verificación\n",
    "print(df_results.head())  # 🔥 Revisa la estructura del DataFrame"
   ]
  },
  {
   "cell_type": "code",
   "execution_count": 75,
   "id": "0bc54eb6-d22c-4b4e-861f-c4a05a6b07d4",
   "metadata": {},
   "outputs": [
    {
     "data": {
      "text/html": [
       "<div>\n",
       "<style scoped>\n",
       "    .dataframe tbody tr th:only-of-type {\n",
       "        vertical-align: middle;\n",
       "    }\n",
       "\n",
       "    .dataframe tbody tr th {\n",
       "        vertical-align: top;\n",
       "    }\n",
       "\n",
       "    .dataframe thead th {\n",
       "        text-align: right;\n",
       "    }\n",
       "</style>\n",
       "<table border=\"1\" class=\"dataframe\">\n",
       "  <thead>\n",
       "    <tr style=\"text-align: right;\">\n",
       "      <th></th>\n",
       "      <th>ID</th>\n",
       "      <th>prediction</th>\n",
       "    </tr>\n",
       "  </thead>\n",
       "  <tbody>\n",
       "    <tr>\n",
       "      <th>0</th>\n",
       "      <td>90659</td>\n",
       "      <td>1</td>\n",
       "    </tr>\n",
       "    <tr>\n",
       "      <th>1</th>\n",
       "      <td>473019</td>\n",
       "      <td>1</td>\n",
       "    </tr>\n",
       "    <tr>\n",
       "      <th>2</th>\n",
       "      <td>421306</td>\n",
       "      <td>1</td>\n",
       "    </tr>\n",
       "    <tr>\n",
       "      <th>3</th>\n",
       "      <td>291700</td>\n",
       "      <td>1</td>\n",
       "    </tr>\n",
       "    <tr>\n",
       "      <th>4</th>\n",
       "      <td>447516</td>\n",
       "      <td>1</td>\n",
       "    </tr>\n",
       "    <tr>\n",
       "      <th>...</th>\n",
       "      <td>...</td>\n",
       "      <td>...</td>\n",
       "    </tr>\n",
       "    <tr>\n",
       "      <th>95</th>\n",
       "      <td>458401</td>\n",
       "      <td>0</td>\n",
       "    </tr>\n",
       "    <tr>\n",
       "      <th>96</th>\n",
       "      <td>132432</td>\n",
       "      <td>0</td>\n",
       "    </tr>\n",
       "    <tr>\n",
       "      <th>97</th>\n",
       "      <td>165854</td>\n",
       "      <td>0</td>\n",
       "    </tr>\n",
       "    <tr>\n",
       "      <th>98</th>\n",
       "      <td>237372</td>\n",
       "      <td>0</td>\n",
       "    </tr>\n",
       "    <tr>\n",
       "      <th>99</th>\n",
       "      <td>392517</td>\n",
       "      <td>0</td>\n",
       "    </tr>\n",
       "  </tbody>\n",
       "</table>\n",
       "<p>100 rows × 2 columns</p>\n",
       "</div>"
      ],
      "text/plain": [
       "        ID  prediction\n",
       "0    90659           1\n",
       "1   473019           1\n",
       "2   421306           1\n",
       "3   291700           1\n",
       "4   447516           1\n",
       "..     ...         ...\n",
       "95  458401           0\n",
       "96  132432           0\n",
       "97  165854           0\n",
       "98  237372           0\n",
       "99  392517           0\n",
       "\n",
       "[100 rows x 2 columns]"
      ]
     },
     "execution_count": 75,
     "metadata": {},
     "output_type": "execute_result"
    }
   ],
   "source": [
    "df_results"
   ]
  }
 ],
 "metadata": {
  "kernelspec": {
   "display_name": "Python 3 (ipykernel)",
   "language": "python",
   "name": "python3"
  },
  "language_info": {
   "codemirror_mode": {
    "name": "ipython",
    "version": 3
   },
   "file_extension": ".py",
   "mimetype": "text/x-python",
   "name": "python",
   "nbconvert_exporter": "python",
   "pygments_lexer": "ipython3",
   "version": "3.12.9"
  }
 },
 "nbformat": 4,
 "nbformat_minor": 5
}
